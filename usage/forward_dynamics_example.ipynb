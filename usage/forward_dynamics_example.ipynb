{
 "cells": [
  {
   "cell_type": "code",
   "execution_count": 1,
   "metadata": {},
   "outputs": [],
   "source": [
    "import sys\n",
    "import os\n",
    "\n",
    "# Assumes the current working directory is the 'usage' folder in this repo. \n",
    "parent_dir = os.path.abspath('..')\n",
    "sys.path.append(parent_dir)\n",
    "\n",
    "# Internal imports. \n",
    "from blue_rov import Params as ps # blue_rov.py in main folder. \n",
    "from diffUV import dyn_body, kin, dyned_eul, dyned_quat # names defined in __init__.py. \n",
    "from diffUV.utils.symbols import *\n",
    "from diffUV.utils.quaternion_ops import euler2q, q2euler\n",
    "\n",
    "# External imports. \n",
    "from casadi import *\n",
    "import numpy as np\n",
    "import os\n",
    "from scipy.spatial.transform import Rotation as R"
   ]
  },
  {
   "cell_type": "code",
   "execution_count": 2,
   "metadata": {},
   "outputs": [
    {
     "data": {
      "text/plain": [
       "SX([u, v, w, p, q, r])"
      ]
     },
     "execution_count": 2,
     "metadata": {},
     "output_type": "execute_result"
    }
   ],
   "source": [
    "r_g = vertcat(x_g, y_g, z_g) # center of gravity wrt body origin\n",
    "r_b = vertcat(x_b, y_b, z_b) # center of buoyancy wrt body origin \n",
    "I_o = vertcat(I_x, I_y, I_z,I_xz) # rigid body inertia wrt body origin\n",
    "\n",
    "decoupled_added_m = vertcat(X_du, Y_dv, Z_dw, K_dp, M_dq, N_dr) # added mass in diagonals\n",
    "coupled_added_m =  vertcat(X_dq, Y_dp, N_dp, M_du, K_dv) # effective added mass in non diagonals\n",
    "\n",
    "linear_dc = vertcat(X_u, Y_v, Z_w, K_p,  M_q, N_r) # linear damping coefficients\n",
    "quadratic_dc = vertcat(X_uu, Y_vv, Z_ww, K_pp, M_qq, N_rr) # quadratic damping coefficients\n",
    "\n",
    "n0 = vertcat(n, dn) # state variables wrt ned\n",
    "x_nb # velocity state variables wrt body"
   ]
  },
  {
   "cell_type": "code",
   "execution_count": 3,
   "metadata": {},
   "outputs": [],
   "source": [
    "# body representaion\n",
    "uv_body = dyn_body()\n",
    "\n",
    "\n",
    "Kinematics = kin()\n",
    "Jq_ = Kinematics.Jq\n",
    "J_ = Kinematics.J"
   ]
  },
  {
   "cell_type": "code",
   "execution_count": 4,
   "metadata": {},
   "outputs": [],
   "source": [
    "Jq_dot = Kinematics.Jq_dot\n",
    "v_ddot = uv_body.body_forward_dynamics()\n",
    "\n",
    "xd = Jq_@x_nb\n",
    "ode_xdd = v_ddot\n",
    "\n",
    "rhs = vertcat(xd, ode_xdd) #the complete ODE vector\n",
    "f_rhs = Function('Odefunc', [m, W, B, r_g, r_b, I_o,\n",
    "                           decoupled_added_m, coupled_added_m,\n",
    "                           linear_dc, quadratic_dc,\n",
    "                           x_nb, n, uq, tau_b], [rhs])\n",
    "\n",
    "dt = SX.sym(\"dt\")\n",
    "\n",
    "n_arg = vertcat(p_n, q2euler(uq))\n",
    "f_rhs_simplify = f_rhs(ps.m, ps.W, ps.B, ps.rg, ps.rb, ps.Io, ps.added_m,\n",
    "                       ps.coupl_added_m, ps.linear_dc, ps.quadratic_dc, x_nb,  n_arg, uq,  tau_b)\n",
    "\n",
    "f_rhs_simplify_func = Function('f_ode_simplify', [x_nb , uq, tau_b], [f_rhs_simplify]) ## RETURNS vertcat(p_n ,uq , x_nb)\n",
    "\n",
    "T = 10 # time horizon\n",
    "N = 1600 # number of control intervals\n",
    "\n",
    "ode = f_rhs_simplify_func(x_nb ,uq, tau_b)\n",
    "\n",
    "# integrator to discretize the system\n",
    "sys = {}\n",
    "sys['x'] = vertcat(p_n, uq, x_nb)\n",
    "sys['u'] = tau_b\n",
    "sys['p'] = dt\n",
    "sys['ode'] = ode*dt # Time scaling\n",
    "\n",
    "intg = integrator('intg', 'rk', sys, 0, 1 , {'simplify':True, 'number_of_finite_elements':100})\n",
    "\n",
    "xS0 = vertcat(p_n, uq, x_nb)\n",
    "\n",
    "res = intg(x0=xS0,u=tau_b, p=dt) #evaluate with symbols\n",
    "x_next = res['xf']\n",
    "\n",
    "x_next[3:7] = x_next[3:7]/sqrt(x_next[3:7].T@x_next[3:7])  #quaternions requires normalization\n",
    "\n",
    "x_next[9] = if_else(x_next[2] < 0, 0,  x_next[9]) # if vehicle on surface, no more up motion\n",
    "x_next[2] = if_else(x_next[2] < 0, 0,  x_next[2]) # if vehicle on surface, keep on surface and not go up"
   ]
  },
  {
   "cell_type": "code",
   "execution_count": 5,
   "metadata": {},
   "outputs": [],
   "source": [
    "# Simplify API to (x,u)->(x_next)\n",
    "F = Function('Vnext',[xS0,tau_b, dt],[x_next])"
   ]
  },
  {
   "cell_type": "code",
   "execution_count": 6,
   "metadata": {},
   "outputs": [
    {
     "data": {
      "text/plain": [
       "0"
      ]
     },
     "execution_count": 6,
     "metadata": {},
     "output_type": "execute_result"
    }
   ],
   "source": [
    "# c , cpp or matlab code generation for forward dynamics\n",
    "# F.generate(\"Vnext.c\")\n",
    "# os.system(f\"gcc -fPIC -shared Vnext.c -o libVnext.so\")"
   ]
  },
  {
   "cell_type": "code",
   "execution_count": null,
   "metadata": {},
   "outputs": [],
   "source": []
  }
 ],
 "metadata": {
  "kernelspec": {
   "display_name": ".venv",
   "language": "python",
   "name": "python3"
  },
  "language_info": {
   "codemirror_mode": {
    "name": "ipython",
    "version": 3
   },
   "file_extension": ".py",
   "mimetype": "text/x-python",
   "name": "python",
   "nbconvert_exporter": "python",
   "pygments_lexer": "ipython3",
   "version": "3.9.18"
  }
 },
 "nbformat": 4,
 "nbformat_minor": 2
}
