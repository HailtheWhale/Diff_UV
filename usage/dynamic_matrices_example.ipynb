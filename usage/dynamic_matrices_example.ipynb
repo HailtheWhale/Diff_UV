{
 "cells": [
  {
   "cell_type": "code",
   "execution_count": 1,
   "metadata": {},
   "outputs": [],
   "source": [
    "import sys\n",
    "import os\n",
    "\n",
    "# Assuming the package is one directory above the current working directory\n",
    "parent_dir = os.path.abspath('..')\n",
    "sys.path.append(parent_dir)\n",
    "\n",
    "from diffUV import dyned_eul, dyn_body, kin, dyned_quat\n",
    "from diffUV.utils.symbols import *\n",
    "from diffUV.utils.quaternion_ops import euler2q, q2euler\n",
    "from casadi import *\n",
    "from blue_rov import Params as ps\n",
    "import numpy as np\n",
    "import os\n",
    "from scipy.spatial.transform import Rotation as R"
   ]
  },
  {
   "cell_type": "code",
   "execution_count": 2,
   "metadata": {},
   "outputs": [
    {
     "data": {
      "text/plain": [
       "SX([(u-v_c_0), (v-v_c_1), (w-v_c_2), (p-v_c_3), (q-v_c_4), (r-v_c_5)])"
      ]
     },
     "execution_count": 2,
     "metadata": {},
     "output_type": "execute_result"
    }
   ],
   "source": [
    "r_g = vertcat(x_g, y_g, z_g) # center of gravity wrt body origin\n",
    "r_b = vertcat(x_b, y_b, z_b) # center of buoyancy wrt body origin \n",
    "I_o = vertcat(I_x, I_y, I_z,I_xz) # rigid body inertia wrt body origin\n",
    "\n",
    "decoupled_added_m = vertcat(X_du, Y_dv, Z_dw, K_dp, M_dq, N_dr) # added mass in diagonals\n",
    "coupled_added_m =  vertcat(X_dq, Y_dp, M_du, K_dv) # effective added mass in non diagonals\n",
    "\n",
    "linear_dc = vertcat(X_u, Y_v, Z_w, K_p,  M_q, N_r) # linear damping coefficients\n",
    "quadratic_dc = vertcat(X_uu, Y_vv, Z_ww, K_pp, M_qq, N_rr) # quadratic damping coefficients\n",
    "\n",
    "n0 = vertcat(n, dn) # state variables wrt ned\n",
    "v_r # velocity state variables wrt body"
   ]
  },
  {
   "cell_type": "code",
   "execution_count": 3,
   "metadata": {},
   "outputs": [],
   "source": [
    "# body representaion\n",
    "uv_body = dyn_body()\n",
    "\n",
    "# ned representaion\n",
    "uv_ned = dyned_eul()\n",
    "\n",
    "# quaternion representation\n",
    "uv_quat = dyned_quat()"
   ]
  },
  {
   "cell_type": "code",
   "execution_count": 4,
   "metadata": {},
   "outputs": [
    {
     "data": {
      "text/plain": [
       "SX([X_dq, Y_dp, M_du, K_dv])"
      ]
     },
     "execution_count": 4,
     "metadata": {},
     "output_type": "execute_result"
    }
   ],
   "source": [
    "coupled_added_m"
   ]
  },
  {
   "cell_type": "markdown",
   "metadata": {},
   "source": [
    "<h1>System Inertia Matrix example</h1>"
   ]
  },
  {
   "cell_type": "code",
   "execution_count": 5,
   "metadata": {},
   "outputs": [],
   "source": [
    "inertia_mat = uv_body.body_inertia_matrix()\n",
    "M_func = Function('M_b', [m, I_o, z_g, decoupled_added_m, coupled_added_m], [inertia_mat]) # for numerical & symbolic use"
   ]
  },
  {
   "cell_type": "code",
   "execution_count": 8,
   "metadata": {},
   "outputs": [
    {
     "data": {
      "text/plain": [
       "array([[17.  ,  0.  ,  0.  ,  0.  ,  0.23,  0.  ],\n",
       "       [ 0.  , 24.2 ,  0.  , -0.23,  0.  ,  0.  ],\n",
       "       [ 0.  ,  0.  , 26.07,  0.  ,  0.  ,  0.  ],\n",
       "       [ 0.  , -0.23,  0.  ,  0.28,  0.  ,  0.  ],\n",
       "       [ 0.23,  0.  ,  0.  ,  0.  ,  0.28,  0.  ],\n",
       "       [ 0.  ,  0.  ,  0.  ,  0.  ,  0.  ,  0.28]])"
      ]
     },
     "execution_count": 8,
     "metadata": {},
     "output_type": "execute_result"
    }
   ],
   "source": [
    "# example usage of inertia mat\n",
    "M_mat = np.array(M_func(ps.m, ps.Io, ps.rg[2], ps.added_m, ps.coupl_added_m))\n",
    "M_mat"
   ]
  },
  {
   "cell_type": "code",
   "execution_count": 9,
   "metadata": {},
   "outputs": [
    {
     "data": {
      "text/plain": [
       "array([[ True,  True,  True,  True,  True,  True],\n",
       "       [ True,  True,  True,  True,  True,  True],\n",
       "       [ True,  True,  True,  True,  True,  True],\n",
       "       [ True,  True,  True,  True,  True,  True],\n",
       "       [ True,  True,  True,  True,  True,  True],\n",
       "       [ True,  True,  True,  True,  True,  True]])"
      ]
     },
     "execution_count": 9,
     "metadata": {},
     "output_type": "execute_result"
    }
   ],
   "source": [
    "M_mat.T == M_mat"
   ]
  },
  {
   "cell_type": "code",
   "execution_count": 10,
   "metadata": {},
   "outputs": [],
   "source": [
    "inertia_ned_mat = uv_ned.ned_euler_inertia_matrix()\n",
    "Onb = vertcat(thet, phi, psi)\n",
    "M_ned_func = Function('M_ned', [m, I_o, z_g, Onb, decoupled_added_m, coupled_added_m], [inertia_ned_mat]) # for numerical & symbolic use"
   ]
  },
  {
   "cell_type": "code",
   "execution_count": 11,
   "metadata": {},
   "outputs": [
    {
     "data": {
      "text/plain": [
       "array([[ 1.72303360e+01, -7.45090577e-01,  1.18405662e+00,\n",
       "         1.76115723e-02,  2.23648786e-01,  3.57838329e-02],\n",
       "       [-7.45090577e-01,  2.41747103e+01, -1.91929773e-01,\n",
       "        -2.26055609e-01,  2.24397276e-02,  3.31239544e-02],\n",
       "       [ 1.18405662e+00, -1.91929773e-01,  2.58649536e+01,\n",
       "        -3.85835972e-02, -2.93860503e-02,  0.00000000e+00],\n",
       "       [ 1.76115723e-02, -2.26055609e-01, -3.85835972e-02,\n",
       "         2.80000000e-01,  0.00000000e+00, -3.62975599e-02],\n",
       "       [ 2.23648786e-01,  2.24397276e-02, -2.93860503e-02,\n",
       "         0.00000000e+00,  2.80000000e-01,  0.00000000e+00],\n",
       "       [ 3.57838329e-02,  3.31239544e-02,  0.00000000e+00,\n",
       "        -3.62975599e-02,  0.00000000e+00,  2.80000000e-01]])"
      ]
     },
     "execution_count": 11,
     "metadata": {},
     "output_type": "execute_result"
    }
   ],
   "source": [
    "# example usage of inertia mat in ned\n",
    "Onb_v = np.array([0.13,0.17,0.1])\n",
    "np.array(M_ned_func(ps.m, ps.Io, ps.rg[2], Onb_v,  ps.added_m, ps.coupl_added_m))"
   ]
  },
  {
   "cell_type": "markdown",
   "metadata": {},
   "source": [
    "<h1>Coriolis Matrix example</h1>"
   ]
  },
  {
   "cell_type": "code",
   "execution_count": 14,
   "metadata": {},
   "outputs": [],
   "source": [
    "coriolis_mat = uv_body.body_coriolis_centripetal_matrix()\n",
    "C_func = Function('C_b', [m, I_o, z_g, decoupled_added_m, coupled_added_m, x_nb, v_c], [coriolis_mat]) # for numerical & symbolic use"
   ]
  },
  {
   "cell_type": "code",
   "execution_count": 15,
   "metadata": {},
   "outputs": [],
   "source": [
    "C = np.array(C_func(ps.m, ps.Io, ps.rg[2], ps.added_m, ps.coupl_added_m, np.array([0.1 ,0.2,0.1,0.1,0.1,0.5]), \n",
    "                    np.array([0.0 ,0.0,0.0,0.0,0.0,0.0])))"
   ]
  },
  {
   "cell_type": "code",
   "execution_count": 16,
   "metadata": {},
   "outputs": [
    {
     "data": {
      "text/plain": [
       "array([[ True,  True,  True,  True,  True,  True],\n",
       "       [ True,  True,  True,  True,  True,  True],\n",
       "       [ True,  True,  True,  True,  True,  True],\n",
       "       [ True,  True,  True,  True,  True,  True],\n",
       "       [ True,  True,  True,  True,  True,  True],\n",
       "       [ True,  True,  True,  True,  True,  True]])"
      ]
     },
     "execution_count": 16,
     "metadata": {},
     "output_type": "execute_result"
    }
   ],
   "source": [
    "-C.T == C"
   ]
  },
  {
   "cell_type": "code",
   "execution_count": null,
   "metadata": {},
   "outputs": [],
   "source": []
  }
 ],
 "metadata": {
  "kernelspec": {
   "display_name": ".venv",
   "language": "python",
   "name": "python3"
  },
  "language_info": {
   "codemirror_mode": {
    "name": "ipython",
    "version": 3
   },
   "file_extension": ".py",
   "mimetype": "text/x-python",
   "name": "python",
   "nbconvert_exporter": "python",
   "pygments_lexer": "ipython3",
   "version": "3.11.7"
  }
 },
 "nbformat": 4,
 "nbformat_minor": 2
}
